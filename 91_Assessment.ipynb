{
 "cells": [
  {
   "cell_type": "markdown",
   "metadata": {},
   "source": [
    "## Convert a number into words\n",
    "\n",
    "#### Current program capabilities :\n",
    "* Test cases passed : 6/6\n",
    "* Exception handling : ✓\n",
    "* The application should include a way to input data via a plain-text file : ✓\n",
    "* The application must be able to run with the output directed to STDOUT : ✓\n",
    "* The application should output correct values for inputs other than those specified under Test input : ✓ \n",
    "* The program works for numbers between 0 and a trillion.\n",
    "\n",
    "#### Capabilites that can be incorporated eventually :\n",
    "* This program works for numbers between 0 and a trillion, code can be modified accordingly to increase the upper bound.\n",
    "* This program has been designed to intercept all numbers in the text file - however, the number to text conversion in this submission has been limited to the first element of the list (to be in accordance with the input and output test cases as notified in the question.) This can be modified later on, with the inclusion of an iteration.\n",
    "\n",
    "#### A text file is submitted along with this document. The contents of the same can be modified to check for test cases."
   ]
  },
  {
   "cell_type": "code",
   "execution_count": 95,
   "metadata": {},
   "outputs": [],
   "source": [
    "#import required libraries \n",
    "\n",
    "import sys \n",
    "import re\n",
    "import os"
   ]
  },
  {
   "cell_type": "code",
   "execution_count": 96,
   "metadata": {},
   "outputs": [
    {
     "data": {
      "text/plain": [
       "'/Users/anushagooda/Documents/GitHub/Ninety-One'"
      ]
     },
     "execution_count": 96,
     "metadata": {},
     "output_type": "execute_result"
    }
   ],
   "source": [
    "os.getcwd()"
   ]
  },
  {
   "cell_type": "code",
   "execution_count": 97,
   "metadata": {},
   "outputs": [],
   "source": [
    "# setup data path\n",
    "base_path = os.path.join(\"..\", \"Ninety-One\")\n",
    "data_path = os.path.join(base_path, \"test.txt\")"
   ]
  },
  {
   "cell_type": "code",
   "execution_count": 98,
   "metadata": {},
   "outputs": [
    {
     "data": {
      "text/plain": [
       "'../Ninety-One/test.txt'"
      ]
     },
     "execution_count": 98,
     "metadata": {},
     "output_type": "execute_result"
    }
   ],
   "source": [
    "data_path"
   ]
  },
  {
   "cell_type": "code",
   "execution_count": 99,
   "metadata": {},
   "outputs": [],
   "source": [
    "# Open test.txt to read the text.\n",
    "myfile = open(data_path) \n",
    "\n",
    "# Read the entire file to string.\n",
    "contents = myfile.read()         \n",
    "myfile.close()                   "
   ]
  },
  {
   "cell_type": "code",
   "execution_count": 100,
   "metadata": {},
   "outputs": [
    {
     "data": {
      "text/plain": [
       "'The database has 66723107008 records.'"
      ]
     },
     "execution_count": 100,
     "metadata": {},
     "output_type": "execute_result"
    }
   ],
   "source": [
    "# View contents of text file\n",
    "contents "
   ]
  },
  {
   "cell_type": "code",
   "execution_count": 101,
   "metadata": {},
   "outputs": [],
   "source": [
    "# Define special characters\n",
    "special_characters = \"\\\\.,^$*+?{}[]|():\" "
   ]
  },
  {
   "cell_type": "code",
   "execution_count": 102,
   "metadata": {},
   "outputs": [],
   "source": [
    "# Replace the special character with whitespace. \n",
    "for c in special_characters:\n",
    "    contents = contents.replace(c,'  ')"
   ]
  },
  {
   "cell_type": "code",
   "execution_count": 103,
   "metadata": {},
   "outputs": [],
   "source": [
    "# Extract numeric data from sentence in text file.\n",
    "list_91 = [int(x) for x in contents.split() if x.isdigit()] "
   ]
  },
  {
   "cell_type": "code",
   "execution_count": 106,
   "metadata": {},
   "outputs": [
    {
     "name": "stdout",
     "output_type": "stream",
     "text": [
      "* Sixty-Six Billion, Seven Hundred and Twenty-Three Million, One Hundred and Seven Thousand, and Eight "
     ]
    }
   ],
   "source": [
    "# Assign value \"-1\" in case of empty list in order to populate the error statement.\n",
    "if len(list_91)==0:\n",
    "    list_91.append(-1)\n",
    "    \n",
    "#In case the string has special characters - they stand replaced by \" \". This will split the digits seperated by \n",
    "# special characters into 2. And if that occurs - this snippet will throw an error.\n",
    "if len(list_91) > 1:\n",
    "    sys.exit(\"Your input has a special character! This input will not yield a favourable outcome.\")\n",
    "    \n",
    "# Access 1st element of the list for now -(can modify this with a loop eventually to incorporate more elements).\n",
    "y = list_91[0] \n",
    "x = str(y) \n",
    "\n",
    "# This program can handle numbers from 0 to trillion. \n",
    "if int(x) > 10**100 or int(x) < 0:  \n",
    "    sys.exit(\"\\nNumber invalid. \\nKindly enter a valid number.\\nAdditionally, please use a number between zero & a trillion!\") \n",
    "\n",
    "# Usage of key-value pairs/ dictionaries for mapping numbers to elements (UNITS & TENS only).\n",
    "def function1(x,\n",
    "              w={0:\"\",1:\"One\",2:\"Two\",3:\"Three\",4:\"Four\",5:\"Five\",6:\"Six\",7:\"Seven\",8:\"Eight\",9:\"Nine\"}, #ones\n",
    "              f={2:\"Twen\",3:\"Thir\",4:\"For\",5:\"Fif\",6:\"Six\",7:\"Seven\",8:\"Eigh\",9:\"Nine\"}, #prefixes\n",
    "              t={11:\"Eleven\",12:\"Twelve\",13:\"Thirteen\",14:\"Fourteen\",15:\"Fifteen\", \n",
    "                 16:\"Sixteen\",17:\"Seventeen\",18:\"Eighteen\",19:\"Nineteen\"}): #tens\n",
    "    \n",
    "    # Check if x a unit number.\n",
    "    if len(x)==1: \n",
    "        return(w[int(x)]) \n",
    "    \n",
    "    # Check if the value in the unit's & the ten's place is 0.\n",
    "    elif len(x)==2 and x[0]==\"0\" and x[1]==\"0\":  \n",
    "        # If yes - Return nothing.\n",
    "        return(\"\") \n",
    "    \n",
    "    # Similarly, check if the value in the ten's place is equal to 0.\n",
    "    elif len(x)==2 and x[0]==\"0\": \n",
    "        # If yes - Return suitable, unit number's key-value mapping.\n",
    "        return (w[int(x[1])])  \n",
    "    \n",
    "    \n",
    "    elif len(x)==2: \n",
    "        # Make sure the unit's place and ten's place both have values x > 0 and x < 9\n",
    "        if int(x) in range(11,20): \n",
    "            # If yes - Return suitable mapping from appropriate key-value mapping.\n",
    "            return(t[int(x)]) \n",
    "        \n",
    "        # Exceptional condition for 10 - Ten.\n",
    "        elif int(x[1])==0: \n",
    "            if int(x)==10:\n",
    "                return(\"Ten\") \n",
    "            else:\n",
    "                # Joining the prefixes defined earlier, with the suffix based on key-value pair mapping for just tens.\n",
    "                return(f[int(x[0])]+\"ty\") \n",
    "                \n",
    "            \n",
    "        else:\n",
    "            # Joining the prefixes defined earlier, with the suffix based on key-value pair mapping for units and tens.\n",
    "            return(f[int(x[0])]+\"ty\"+\"-\"+w[int(x[1])]) \n",
    "            \n",
    "\n",
    "# Usage of key-value pairs/ dictionaries for mapping numbers to elements (HUNDREDS only)\n",
    "def function2(x,w1={0:\"\",1:\"One\",2:\"Two\",3:\"Three\",4:\"Four\",5:\"Five\",6:\"Six\",7:\"Seven\",8:\"Eight\",9:\"Nine\"}): \n",
    "    \n",
    "    # Check if the value of the numbers in the ten's & unit's place is 0 and hundreds is NOT qual to 0.\n",
    "    if len(x)==3 and x[0]!=\"0\" and x[1]==\"0\" and x[2]==\"0\": \n",
    "        #If yes, return unit's key-value mapping with an additional word - Hundred.\n",
    "        return(w1[int(x[0])]+\" \"+\"Hundred\") \n",
    "    \n",
    "    # Check if the value of the number in the hundred's place is 0.\n",
    "    elif len(x)==3 and x[0]!=\"0\": \n",
    "        # If not, combine the key-value pair equivalents of the tens and units place.\n",
    "        a1=(x[1]+x[2]) \n",
    "        # And add it here to the key-value mapping for hundred's place.\n",
    "        return(w1[int(x[0])]+\" \"+\"Hundred \"+\"and \"+function1(a1)) \n",
    "    \n",
    "    # Check if the value of the numbers in the hundred's place is 0.\n",
    "    elif len(x)==3 and x[0]==\"0\": \n",
    "        #If yes, return ONLY the key-value pair equivalents of the tens and units place.\n",
    "        return(\"and \"+function1(x[1]+x[2])) \n",
    "    \n",
    "    # End of the initial condition - \n",
    "    # Check for the value of the numbers in the hundred's, ten's, unit's place.\n",
    "    else: \n",
    "        #if they're all 0, the control is redirected to the first function.\n",
    "        return(function1(x)) \n",
    "\n",
    "# Defining control for the digits after the hundreds, tens and units place for every 3 digits in the input.\n",
    "def function_3(s,out = []): \n",
    "    while len(s): \n",
    "        out.insert(0, s[-3:]) \n",
    "        s = s[:-3] \n",
    "    return out \n",
    "\n",
    "# Defining function for digits greater than hundreds - (thousands to trillions).\n",
    "def function_4(x): \n",
    "    if x==\"000\":\n",
    "        return(0) \n",
    "    elif x==\"00\":\n",
    "        return(0) \n",
    "    elif x==\"0\":\n",
    "        return(0) \n",
    "    else:\n",
    "        return(1) \n",
    "# Defining key-value paris for thousands and over from 0 and assigning function 3 to v.\n",
    "aa,v={0:\"\",1:\"Thousand\",2:\"Million\",3:\"Billion\", 4:\"Trillion\"},function_3(x) \n",
    "\n",
    "# Assigning output values for the lowest limit and the highest limit.\n",
    "if int(x)==10**12: \n",
    "    s=\"One Trillion\" \n",
    "elif int(x)==0: \n",
    "    s=\"Zero\" \n",
    "else: \n",
    "    # If the number is not equal to 0 or 10^12 - this part of the loop stands executed.\n",
    "    s1=\"\" \n",
    "    for i in range(len(v)): \n",
    "        # Assigning output values for all values of i that exist in the length range of the input number.\n",
    "        s1 = s1 + (function2(v[i]))+ (\" \"+aa[len(v)-1-i]+\", \") * function_4(v[i]) \n",
    "    \n",
    "    s=s1[:len(s1)-2] # To remove the white-spaces & comma at the end of sentence in s1.\n",
    "sys.stdout.write(\"* \"+s) "
   ]
  },
  {
   "cell_type": "code",
   "execution_count": null,
   "metadata": {},
   "outputs": [],
   "source": []
  }
 ],
 "metadata": {
  "kernelspec": {
   "display_name": "Python 3",
   "language": "python",
   "name": "python3"
  },
  "language_info": {
   "codemirror_mode": {
    "name": "ipython",
    "version": 3
   },
   "file_extension": ".py",
   "mimetype": "text/x-python",
   "name": "python",
   "nbconvert_exporter": "python",
   "pygments_lexer": "ipython3",
   "version": "3.8.3"
  }
 },
 "nbformat": 4,
 "nbformat_minor": 4
}
